{
 "cells": [
  {
   "cell_type": "code",
   "execution_count": 17,
   "metadata": {},
   "outputs": [],
   "source": [
    "import numpy as np\n",
    "import pandas as pd\n",
    "import scipy.stats as stats\n",
    "import random\n",
    "import math"
   ]
  },
  {
   "cell_type": "code",
   "execution_count": 30,
   "metadata": {},
   "outputs": [
    {
     "name": "stdout",
     "output_type": "stream",
     "text": [
      "Mean of one_sample = 165.000\n",
      "t=critical value = 2.262.\n",
      "The t-statistic is 4.153 and the p-value is 0.002.\n"
     ]
    }
   ],
   "source": [
    "%matplotlib inline\n",
    "# 1-sample t-testfrom scipy import stats\n",
    "avg_height_of_indian_men_2017 = 165\n",
    "one_sample_data = [177.3, 159, 173, 176.3, 165, 175.4, 178.5, 177.2, 181.8, 176.5]\n",
    "mean_1 = avg_height_of_indian_men_2017\n",
    "one_sample = stats.ttest_1samp(one_sample_data, avg_height_of_indian_men_2017)\n",
    "t_critical = stats.t.ppf(q = 0.975, df=9) \n",
    "print \"Mean of one_sample = %0.3f\"%mean_1\n",
    "print \"t=critical value = %0.3f.\" %t_critical\n",
    "print \"The t-statistic is %.3f and the p-value is %.3f.\" % one_sample"
   ]
  },
  {
   "cell_type": "code",
   "execution_count": null,
   "metadata": {
    "collapsed": true
   },
   "outputs": [],
   "source": [
    "\n"
   ]
  }
 ],
 "metadata": {
  "kernelspec": {
   "display_name": "Python 2",
   "language": "python",
   "name": "python2"
  },
  "language_info": {
   "codemirror_mode": {
    "name": "ipython",
    "version": 2
   },
   "file_extension": ".py",
   "mimetype": "text/x-python",
   "name": "python",
   "nbconvert_exporter": "python",
   "pygments_lexer": "ipython2",
   "version": "2.7.13"
  }
 },
 "nbformat": 4,
 "nbformat_minor": 2
}
