{
 "cells": [
  {
   "cell_type": "code",
   "execution_count": 11,
   "metadata": {
    "collapsed": true
   },
   "outputs": [],
   "source": [
    "import numpy as np\n",
    "yp = [0,2,1,3]\n",
    "ye = [0,1,2,3]\n",
    "def score_accuracy(yp,ye,metric):\n",
    "    try:\n",
    "        if (len(yp) != len(ye)):\n",
    "            raise ValueError('Length unequal')\n",
    "        else:\n",
    "            if metric not in [\"accuracy\",\"mean_square_error\"]:\n",
    "                raise ValueError('Metric not included')\n",
    "            else:\n",
    "                yp1 = np.array(yp)\n",
    "                yp2 = np.array(ye)\n",
    "                if metric == 'accuracy':               \n",
    "                    yp3 = np.sum(yp1 == yp2)\n",
    "                    yp4 = (yp3*100.0)/len(yp)\n",
    "                elif metric == 'mean_square_error':\n",
    "                    yp4 = float(np.sum(np.square(yp1 - yp2)))/len(yp)  \n",
    "                return yp4\n",
    "    except:\n",
    "        print ValueError"
   ]
  },
  {
   "cell_type": "code",
   "execution_count": 12,
   "metadata": {},
   "outputs": [
    {
     "data": {
      "text/plain": [
       "0.5"
      ]
     },
     "execution_count": 12,
     "metadata": {},
     "output_type": "execute_result"
    }
   ],
   "source": [
    "score_accuracy(yp,ye,'mean_square_error')"
   ]
  },
  {
   "cell_type": "code",
   "execution_count": 13,
   "metadata": {},
   "outputs": [
    {
     "data": {
      "text/plain": [
       "50.0"
      ]
     },
     "execution_count": 13,
     "metadata": {},
     "output_type": "execute_result"
    }
   ],
   "source": [
    "score_accuracy(yp,ye,'accuracy')"
   ]
  },
  {
   "cell_type": "code",
   "execution_count": 14,
   "metadata": {},
   "outputs": [
    {
     "name": "stdout",
     "output_type": "stream",
     "text": [
      "<type 'exceptions.ValueError'>\n"
     ]
    }
   ],
   "source": [
    "score_accuracy(yp,ye,'elephant')"
   ]
  },
  {
   "cell_type": "code",
   "execution_count": 19,
   "metadata": {},
   "outputs": [
    {
     "name": "stdout",
     "output_type": "stream",
     "text": [
      "0.5\n"
     ]
    }
   ],
   "source": [
    "yp = [0,2,1,3]\n",
    "ye = [0,1,2,3]\n",
    "count = 0\n",
    "for idx, val1 in enumerate(yp):\n",
    "    for jdx,val2 in enumerate(ye):\n",
    "        if (idx == jdx) and (val1 == val2):\n",
    "            count += 1\n",
    "print float(count)/len(yp)"
   ]
  },
  {
   "cell_type": "code",
   "execution_count": null,
   "metadata": {
    "collapsed": true
   },
   "outputs": [],
   "source": []
  }
 ],
 "metadata": {
  "kernelspec": {
   "display_name": "Python 2",
   "language": "python",
   "name": "python2"
  },
  "language_info": {
   "codemirror_mode": {
    "name": "ipython",
    "version": 2
   },
   "file_extension": ".py",
   "mimetype": "text/x-python",
   "name": "python",
   "nbconvert_exporter": "python",
   "pygments_lexer": "ipython2",
   "version": "2.7.13"
  }
 },
 "nbformat": 4,
 "nbformat_minor": 2
}
