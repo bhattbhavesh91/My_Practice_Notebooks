{
 "cells": [
  {
   "cell_type": "code",
   "execution_count": 75,
   "metadata": {},
   "outputs": [
    {
     "data": {
      "text/plain": [
       "['fox', 'rat', 'dog', 'dog']"
      ]
     },
     "execution_count": 75,
     "metadata": {},
     "output_type": "execute_result"
    }
   ],
   "source": [
    "import re\n",
    "\n",
    "re.findall(\"{cat|dog|rat|fox|camel}.*box$\",\"a quick brown fox jumped over a lazy rat dog camel dog box\")"
   ]
  },
  {
   "cell_type": "code",
   "execution_count": 55,
   "metadata": {},
   "outputs": [
    {
     "ename": "SyntaxError",
     "evalue": "invalid syntax (<ipython-input-55-a6246bc34ee5>, line 1)",
     "output_type": "error",
     "traceback": [
      "\u001b[0;36m  File \u001b[0;32m\"<ipython-input-55-a6246bc34ee5>\"\u001b[0;36m, line \u001b[0;32m1\u001b[0m\n\u001b[0;31m    ^\u001b[0m\n\u001b[0m    ^\u001b[0m\n\u001b[0;31mSyntaxError\u001b[0m\u001b[0;31m:\u001b[0m invalid syntax\n"
     ]
    }
   ],
   "source": []
  },
  {
   "cell_type": "code",
   "execution_count": 126,
   "metadata": {},
   "outputs": [
    {
     "name": "stdout",
     "output_type": "stream",
     "text": [
      "[0, 1, 2]\n"
     ]
    }
   ],
   "source": [
    "\n",
    "i = range(0,3)\n",
    "print i"
   ]
  },
  {
   "cell_type": "code",
   "execution_count": 114,
   "metadata": {
    "scrolled": true
   },
   "outputs": [
    {
     "data": {
      "text/plain": [
       "'1234'"
      ]
     },
     "execution_count": 114,
     "metadata": {},
     "output_type": "execute_result"
    }
   ],
   "source": []
  },
  {
   "cell_type": "code",
   "execution_count": 127,
   "metadata": {},
   "outputs": [
    {
     "ename": "SyntaxError",
     "evalue": "invalid syntax (<ipython-input-127-df6175494364>, line 2)",
     "output_type": "error",
     "traceback": [
      "\u001b[0;36m  File \u001b[0;32m\"<ipython-input-127-df6175494364>\"\u001b[0;36m, line \u001b[0;32m2\u001b[0m\n\u001b[0;31m    for index in range(0,len(t))\u001b[0m\n\u001b[0m                                ^\u001b[0m\n\u001b[0;31mSyntaxError\u001b[0m\u001b[0;31m:\u001b[0m invalid syntax\n"
     ]
    }
   ],
   "source": [
    "t = 'AAABAA'\n",
    "for index in range(0,len(t))"
   ]
  },
  {
   "cell_type": "code",
   "execution_count": 138,
   "metadata": {},
   "outputs": [
    {
     "name": "stdout",
     "output_type": "stream",
     "text": [
      "ABCD\n"
     ]
    }
   ],
   "source": [
    "s1 = 'ABCD'\n",
    "result = ''\n",
    "count = 1\n",
    "result += s1[0]\n",
    "for i in range(0,len(s1)-1):\n",
    "    if s1[i] == s1[i+1]:\n",
    "        count +=1\n",
    "    elif count > 1:\n",
    "        result += str(count)+s1[i+1]\n",
    "        count = 1\n",
    "    elif count == 1:\n",
    "        result += s1[i+1]\n",
    "if(count > 1):\n",
    "    result += str(count)\n",
    "    \n",
    "\n",
    "print result"
   ]
  },
  {
   "cell_type": "code",
   "execution_count": 152,
   "metadata": {},
   "outputs": [
    {
     "name": "stdout",
     "output_type": "stream",
     "text": [
      "<type 'str'>\n"
     ]
    }
   ],
   "source": [
    "s1 = 'aabcddd'\n",
    "s2 = 'abbbbccde'\n",
    "set1 = set(s1)\n",
    "set2 = set(s2)\n",
    "print type (str(map(str,(set1^set2))))"
   ]
  },
  {
   "cell_type": "code",
   "execution_count": 154,
   "metadata": {},
   "outputs": [
    {
     "name": "stdout",
     "output_type": "stream",
     "text": [
      "[[8 4 6]\n",
      " [1 2 3]]\n"
     ]
    }
   ],
   "source": [
    "import numpy as np\n",
    "t = ([8, 4, 6], [1, 2, 3])\n",
    "y = np.array(t)\n",
    "print y"
   ]
  },
  {
   "cell_type": "code",
   "execution_count": 156,
   "metadata": {},
   "outputs": [
    {
     "name": "stdout",
     "output_type": "stream",
     "text": [
      "[10 20  3]\n",
      "int64\n",
      "(3,)\n"
     ]
    }
   ],
   "source": [
    "import numpy as np\n",
    "l1 = [10,20,3]\n",
    "t1 = np.array (l1)\n",
    "print t1\n",
    "print t1.dtype\n",
    "print t1.shape"
   ]
  },
  {
   "cell_type": "code",
   "execution_count": 159,
   "metadata": {},
   "outputs": [
    {
     "ename": "AttributeError",
     "evalue": "'list' object has no attribute 'shape'",
     "output_type": "error",
     "traceback": [
      "\u001b[0;31m---------------------------------------------------------------------------\u001b[0m",
      "\u001b[0;31mAttributeError\u001b[0m                            Traceback (most recent call last)",
      "\u001b[0;32m<ipython-input-159-815b8d984b73>\u001b[0m in \u001b[0;36m<module>\u001b[0;34m()\u001b[0m\n\u001b[1;32m      1\u001b[0m \u001b[0mi1\u001b[0m \u001b[0;34m=\u001b[0m \u001b[0;34m[\u001b[0m \u001b[0;36m1\u001b[0m\u001b[0;34m,\u001b[0m  \u001b[0;36m1\u001b[0m\u001b[0;34m,\u001b[0m  \u001b[0;36m1\u001b[0m\u001b[0;34m,\u001b[0m  \u001b[0;36m1\u001b[0m\u001b[0;34m,\u001b[0m  \u001b[0;36m1\u001b[0m\u001b[0;34m]\u001b[0m\u001b[0;34m\u001b[0m\u001b[0m\n\u001b[1;32m      2\u001b[0m \u001b[0;34m\u001b[0m\u001b[0m\n\u001b[0;32m----> 3\u001b[0;31m \u001b[0;32mprint\u001b[0m \u001b[0mi1\u001b[0m\u001b[0;34m.\u001b[0m\u001b[0mshape\u001b[0m\u001b[0;34m\u001b[0m\u001b[0m\n\u001b[0m",
      "\u001b[0;31mAttributeError\u001b[0m: 'list' object has no attribute 'shape'"
     ]
    }
   ],
   "source": [
    "i1 = [ 1,  1,  1,  1,  1]\n",
    "\n",
    "print i1.shape"
   ]
  },
  {
   "cell_type": "code",
   "execution_count": 189,
   "metadata": {},
   "outputs": [
    {
     "name": "stdout",
     "output_type": "stream",
     "text": [
      "[[1 1 1 1 1]\n",
      " [1 1 1 1 1]\n",
      " [1 1 1 1 1]\n",
      " [1 1 1 1 1]\n",
      " [1 1 1 1 1]]\n",
      "[[1 1 1 1 1]\n",
      " [1 0 0 0 1]\n",
      " [1 0 0 0 1]\n",
      " [1 0 0 0 1]\n",
      " [1 1 1 1 1]]\n",
      "[[1 1 1 1 1]\n",
      " [1 1 1 1 1]\n",
      " [0 0 0 0 0]\n",
      " [0 0 0 0 0]\n",
      " [1 1 1 1 1]]\n"
     ]
    }
   ],
   "source": [
    "import numpy as np\n",
    "l1 = [[ 1,  1,  1,  1,  1],[ 1,  1,  1,  1,  1],[ 1,  1,  1,  1,  1],[ 1,  1,  1,  1,  1],[ 1,  1,  1,  1,  1]]\n",
    "i1 = np.array(l1)\n",
    "i2 = np.array(l1)\n",
    "print i1\n",
    "i1[1:4,1:4]=0\n",
    "i2[1:4][1:4]=0\n",
    "print i1\n",
    "print i2"
   ]
  },
  {
   "cell_type": "code",
   "execution_count": 191,
   "metadata": {},
   "outputs": [
    {
     "name": "stdout",
     "output_type": "stream",
     "text": [
      "[[[ 0.63464559  0.96374936  0.99331453]\n",
      "  [ 0.12463414  0.00182426  0.88945696]\n",
      "  [ 0.29131577  0.53059578  0.4412654 ]]\n",
      "\n",
      " [[ 0.59205043  0.96029171  0.8806379 ]\n",
      "  [ 0.18778682  0.57824258  0.55359427]\n",
      "  [ 0.63986625  0.91906413  0.52811535]]\n",
      "\n",
      " [[ 0.36284344  0.19725852  0.25024489]\n",
      "  [ 0.31031838  0.65334792  0.43702903]\n",
      "  [ 0.74524062  0.17954175  0.94594429]]\n",
      "\n",
      " [[ 0.13819335  0.48383528  0.75461103]\n",
      "  [ 0.74036123  0.56023118  0.48878186]\n",
      "  [ 0.30500206  0.50229746  0.98551102]]]\n"
     ]
    }
   ],
   "source": [
    "a = np.random.rand(4,3,3)\n",
    "print a"
   ]
  },
  {
   "cell_type": "code",
   "execution_count": 192,
   "metadata": {},
   "outputs": [
    {
     "name": "stdout",
     "output_type": "stream",
     "text": [
      "0.578242575683\n"
     ]
    }
   ],
   "source": [
    "print a[1][1][1]"
   ]
  },
  {
   "cell_type": "code",
   "execution_count": 193,
   "metadata": {},
   "outputs": [
    {
     "name": "stdout",
     "output_type": "stream",
     "text": [
      "0.65334791913\n"
     ]
    }
   ],
   "source": [
    "print a[2][1][1]"
   ]
  },
  {
   "cell_type": "code",
   "execution_count": 197,
   "metadata": {},
   "outputs": [
    {
     "name": "stdout",
     "output_type": "stream",
     "text": [
      "[[ 0.57824258  0.91906413]\n",
      " [ 0.65334792  0.17954175]]\n"
     ]
    }
   ],
   "source": [
    "print a[1:3,1:3,1]"
   ]
  },
  {
   "cell_type": "code",
   "execution_count": 195,
   "metadata": {},
   "outputs": [
    {
     "name": "stdout",
     "output_type": "stream",
     "text": [
      "0.889456956031\n"
     ]
    }
   ],
   "source": [
    "print a[0][1][2]"
   ]
  },
  {
   "cell_type": "code",
   "execution_count": 196,
   "metadata": {},
   "outputs": [
    {
     "name": "stdout",
     "output_type": "stream",
     "text": [
      "[10 20 30 40 50 60 70 80 90]\n"
     ]
    }
   ],
   "source": [
    "import numpy as np\n",
    "a1 = [10, 20, 30]\n",
    "a2 = [[40, 50, 60], [70, 80, 90]]\n",
    "a3 = np.append(a1,a2)\n",
    "print a3"
   ]
  },
  {
   "cell_type": "code",
   "execution_count": 198,
   "metadata": {},
   "outputs": [
    {
     "ename": "IndexError",
     "evalue": "index 5 is out of bounds for axis 0 with size 3",
     "output_type": "error",
     "traceback": [
      "\u001b[0;31m---------------------------------------------------------------------------\u001b[0m",
      "\u001b[0;31mIndexError\u001b[0m                                Traceback (most recent call last)",
      "\u001b[0;32m<ipython-input-198-7103bdf1454e>\u001b[0m in \u001b[0;36m<module>\u001b[0;34m()\u001b[0m\n\u001b[1;32m      1\u001b[0m \u001b[0;32mimport\u001b[0m \u001b[0mnumpy\u001b[0m \u001b[0;32mas\u001b[0m \u001b[0mnp\u001b[0m\u001b[0;34m\u001b[0m\u001b[0m\n\u001b[1;32m      2\u001b[0m \u001b[0marr\u001b[0m \u001b[0;34m=\u001b[0m \u001b[0mnp\u001b[0m\u001b[0;34m.\u001b[0m\u001b[0marray\u001b[0m\u001b[0;34m(\u001b[0m\u001b[0;34m[\u001b[0m\u001b[0;34m[\u001b[0m\u001b[0;36m1\u001b[0m\u001b[0;34m,\u001b[0m\u001b[0;36m2\u001b[0m\u001b[0;34m,\u001b[0m\u001b[0;36m3\u001b[0m\u001b[0;34m]\u001b[0m\u001b[0;34m,\u001b[0m\u001b[0;34m[\u001b[0m\u001b[0;36m4\u001b[0m\u001b[0;34m,\u001b[0m\u001b[0;36m5\u001b[0m\u001b[0;34m,\u001b[0m\u001b[0;36m6\u001b[0m\u001b[0;34m]\u001b[0m\u001b[0;34m,\u001b[0m\u001b[0;34m[\u001b[0m\u001b[0;36m7\u001b[0m\u001b[0;34m,\u001b[0m\u001b[0;36m8\u001b[0m\u001b[0;34m,\u001b[0m\u001b[0;36m9\u001b[0m\u001b[0;34m]\u001b[0m\u001b[0;34m]\u001b[0m\u001b[0;34m)\u001b[0m\u001b[0;34m\u001b[0m\u001b[0m\n\u001b[0;32m----> 3\u001b[0;31m \u001b[0;32mprint\u001b[0m \u001b[0marr\u001b[0m\u001b[0;34m[\u001b[0m\u001b[0;36m5\u001b[0m\u001b[0;34m]\u001b[0m\u001b[0;34m\u001b[0m\u001b[0m\n\u001b[0m",
      "\u001b[0;31mIndexError\u001b[0m: index 5 is out of bounds for axis 0 with size 3"
     ]
    }
   ],
   "source": [
    "import numpy as np\n",
    "arr = np.array([[1,2,3],[4,5,6],[7,8,9]])\n",
    "print arr[5]"
   ]
  },
  {
   "cell_type": "code",
   "execution_count": 205,
   "metadata": {},
   "outputs": [
    {
     "name": "stdout",
     "output_type": "stream",
     "text": [
      "arb\n",
      "None\n"
     ]
    }
   ],
   "source": [
    "def has_unique_chars(s1):\n",
    "    print \"\".join((str(s) for s in set(s1)))\n",
    "print has_unique_chars(\"bar\")"
   ]
  },
  {
   "cell_type": "code",
   "execution_count": 208,
   "metadata": {},
   "outputs": [
    {
     "name": "stdout",
     "output_type": "stream",
     "text": [
      "True\n"
     ]
    }
   ],
   "source": [
    "def has_unique_chars(s1):\n",
    "    if s1 == None:\n",
    "        return False\n",
    "    l2 = sorted(set(s1), key=s1.index)\n",
    "    return s1 == \"\".join(str(x) for x in l2)\n",
    "print has_unique_chars(\"bar\")"
   ]
  },
  {
   "cell_type": "code",
   "execution_count": 222,
   "metadata": {},
   "outputs": [
    {
     "name": "stdout",
     "output_type": "stream",
     "text": [
      "[['c', 'd'], ['a', 'b']]\n"
     ]
    }
   ],
   "source": [
    "import itertools\n",
    "d1 = {'one':['a','b'],'two':['c','d']}\n",
    "def solution(dic):\n",
    "    d2 = d1.values()\n",
    "    print d2\n",
    "\n",
    "solution(d1)"
   ]
  },
  {
   "cell_type": "code",
   "execution_count": 225,
   "metadata": {},
   "outputs": [],
   "source": [
    "import numpy\n",
    "world_milk = numpy.genfromtxt(\"/home/greyatom/world_milk.csv\",dtype=\"|S30\",skip_header=1,delimiter=\",\")"
   ]
  },
  {
   "cell_type": "code",
   "execution_count": 226,
   "metadata": {
    "collapsed": true
   },
   "outputs": [],
   "source": [
    "import numpy\n",
    "world_milk = numpy.genfromtxt(\"/home/greyatom/world_milk.csv\",dtype=\"|S30\",skip_header=1,delimiter=\",\")"
   ]
  },
  {
   "cell_type": "code",
   "execution_count": 227,
   "metadata": {
    "collapsed": true
   },
   "outputs": [],
   "source": [
    "import numpy\n",
    "world_milk = numpy.genfromtxt(\"/home/greyatom/world_milk.csv\",dtype=\"|S30\",skip_header=1,delimiter=\",\")"
   ]
  },
  {
   "cell_type": "code",
   "execution_count": 228,
   "metadata": {},
   "outputs": [
    {
     "name": "stdout",
     "output_type": "stream",
     "text": [
      "[['1986' 'Western Pacific' 'Viet Nam' 'Cow Milk' '0']\n",
      " ['1986' 'Americas' 'Uruguay' 'Other' '0.5']\n",
      " ['1986' 'Europe' 'Switzerland' 'Cow Milk' '1.62']\n",
      " ['1985' 'Western Pacific' 'Viet Nam' 'buffalo Milk' '0.6']\n",
      " ['1985' 'Americas' 'Uruguay' 'Other' '0.5']\n",
      " ['1985' 'Europe' 'Switzerland' 'Other' '1.0']\n",
      " ['1984' 'Western Pacific' 'Viet Nam' 'buffalo Milk' '0.8']\n",
      " ['1984' 'Americas' 'Uruguay' 'Other' '']\n",
      " ['1984' 'Europe' 'Switzerland' 'Other' '2.5']]\n"
     ]
    }
   ],
   "source": [
    "import numpy\n",
    "world_milk = numpy.genfromtxt(\"/home/greyatom/world_milk.csv\",dtype=\"|S30\",skip_header=1,delimiter=\",\")\n",
    "print world_milk"
   ]
  },
  {
   "cell_type": "code",
   "execution_count": 229,
   "metadata": {},
   "outputs": [
    {
     "name": "stdout",
     "output_type": "stream",
     "text": [
      "[['1986' 'Western Pacific' 'Viet Nam' 'Cow Milk' '0']\n",
      " ['1986' 'Americas' 'Uruguay' 'Other' '0.5']\n",
      " ['1986' 'Europe' 'Switzerland' 'Cow Milk' '1.62']\n",
      " ['1985' 'Western Pacific' 'Viet Nam' 'buffalo Milk' '0.6']\n",
      " ['1985' 'Americas' 'Uruguay' 'Other' '0.5']\n",
      " ['1985' 'Europe' 'Switzerland' 'Other' '1.0']\n",
      " ['1984' 'Western Pacific' 'Viet Nam' 'buffalo Milk' '0.8']\n",
      " ['1984' 'Americas' 'Uruguay' 'Other' '']\n",
      " ['1984' 'Europe' 'Switzerland' 'Other' '2.5']]\n"
     ]
    }
   ],
   "source": [
    "import numpy\n",
    "world_milk = numpy.genfromtxt(\"/home/greyatom/world_milk.csv\",dtype=\"|S30\",skip_header=1,delimiter=\",\")\n",
    "print world_milk"
   ]
  },
  {
   "cell_type": "code",
   "execution_count": 234,
   "metadata": {},
   "outputs": [
    {
     "name": "stdout",
     "output_type": "stream",
     "text": [
      "[['1986' 'Western Pacific' 'Viet Nam' 'Cow Milk' '0']\n",
      " ['1986' 'Americas' 'Uruguay' 'Other' '0.5']\n",
      " ['1986' 'Europe' 'Switzerland' 'Cow Milk' '1.62']\n",
      " ['1985' 'Western Pacific' 'Viet Nam' 'buffalo Milk' '0.6']\n",
      " ['1985' 'Americas' 'Uruguay' 'Other' '0.5']\n",
      " ['1985' 'Europe' 'Switzerland' 'Other' '1.0']\n",
      " ['1984' 'Western Pacific' 'Viet Nam' 'buffalo Milk' '0.8']\n",
      " ['1984' 'Americas' 'Uruguay' 'Other' '']\n",
      " ['1984' 'Europe' 'Switzerland' 'Other' '2.5']]\n",
      "['0' '0.5' '1.62' '0.6' '0.5' '1.0' '0.8' '' '2.5']\n"
     ]
    },
    {
     "ename": "ValueError",
     "evalue": "could not convert string to float: ",
     "output_type": "error",
     "traceback": [
      "\u001b[0;31m---------------------------------------------------------------------------\u001b[0m",
      "\u001b[0;31mValueError\u001b[0m                                Traceback (most recent call last)",
      "\u001b[0;32m<ipython-input-234-73e34765f6e6>\u001b[0m in \u001b[0;36m<module>\u001b[0;34m()\u001b[0m\n\u001b[1;32m      4\u001b[0m \u001b[0mmilk_consumption\u001b[0m \u001b[0;34m=\u001b[0m \u001b[0mworld_milk\u001b[0m\u001b[0;34m[\u001b[0m\u001b[0;34m:\u001b[0m\u001b[0;34m,\u001b[0m\u001b[0;36m4\u001b[0m\u001b[0;34m]\u001b[0m\u001b[0;34m\u001b[0m\u001b[0m\n\u001b[1;32m      5\u001b[0m \u001b[0;32mprint\u001b[0m \u001b[0mmilk_consumption\u001b[0m\u001b[0;34m\u001b[0m\u001b[0m\n\u001b[0;32m----> 6\u001b[0;31m \u001b[0mmilk_consumption_float\u001b[0m \u001b[0;34m=\u001b[0m \u001b[0mmilk_consumption\u001b[0m\u001b[0;34m.\u001b[0m\u001b[0mastype\u001b[0m\u001b[0;34m(\u001b[0m\u001b[0mfloat\u001b[0m\u001b[0;34m)\u001b[0m\u001b[0;34m\u001b[0m\u001b[0m\n\u001b[0m\u001b[1;32m      7\u001b[0m \u001b[0;32mprint\u001b[0m \u001b[0mmilk_consumption_float\u001b[0m\u001b[0;34m\u001b[0m\u001b[0m\n",
      "\u001b[0;31mValueError\u001b[0m: could not convert string to float: "
     ]
    }
   ],
   "source": [
    "import numpy\n",
    "world_milk = numpy.genfromtxt(\"/home/greyatom/world_milk.csv\",dtype=\"|S30\",skip_header=1,delimiter=\",\")\n",
    "print world_milk\n",
    "milk_consumption = world_milk[:,4]\n",
    "print milk_consumption\n",
    "milk_consumption_float = milk_consumption.astype(float)\n",
    "print milk_consumption_float"
   ]
  },
  {
   "cell_type": "code",
   "execution_count": 236,
   "metadata": {},
   "outputs": [
    {
     "name": "stdout",
     "output_type": "stream",
     "text": [
      "[['1986' 'Western Pacific' 'Viet Nam' 'Cow Milk' '0']\n",
      " ['1986' 'Americas' 'Uruguay' 'Other' '0.5']\n",
      " ['1986' 'Europe' 'Switzerland' 'Cow Milk' '1.62']\n",
      " ['1985' 'Western Pacific' 'Viet Nam' 'buffalo Milk' '0.6']\n",
      " ['1985' 'Americas' 'Uruguay' 'Other' '0.5']\n",
      " ['1985' 'Europe' 'Switzerland' 'Other' '1.0']\n",
      " ['1984' 'Western Pacific' 'Viet Nam' 'buffalo Milk' '0.8']\n",
      " ['1984' 'Americas' 'Uruguay' 'Other' '']\n",
      " ['1984' 'Europe' 'Switzerland' 'Other' '2.5']]\n",
      "['0' '0.5' '1.62' '0.6' '0.5' '1.0' '0.8' '' '2.5']\n",
      "[ 0.    0.5   1.62  0.6   0.5   1.    0.8   0.    2.5 ]\n"
     ]
    }
   ],
   "source": [
    "import numpy\n",
    "world_milk = numpy.genfromtxt(\"/home/greyatom/world_milk.csv\",dtype=\"|S30\",skip_header=1,delimiter=\",\")\n",
    "print world_milk\n",
    "milk_consumption = world_milk[:,4]\n",
    "print milk_consumption\n",
    "milk_consumption[7] = 0\n",
    "milk_consumption_float = milk_consumption.astype(np.float64)\n",
    "print milk_consumption_float"
   ]
  },
  {
   "cell_type": "code",
   "execution_count": null,
   "metadata": {},
   "outputs": [],
   "source": [
    "import numpy\n",
    "world_milk = numpy.genfromtxt(\"/home/greyatom/world_milk.csv\",dtype=\"|S30\",skip_header=1,delimiter=\",\")\n",
    "print world_milk\n",
    "milk_consumption = world_milk[:,4]\n",
    "print milk_consumption\n",
    "milk_consumption_float = milk_consumption.astype(np.float64)\n",
    "print milk_consumption_float"
   ]
  },
  {
   "cell_type": "code",
   "execution_count": null,
   "metadata": {
    "collapsed": true
   },
   "outputs": [],
   "source": []
  }
 ],
 "metadata": {
  "kernelspec": {
   "display_name": "Python 2",
   "language": "python",
   "name": "python2"
  },
  "language_info": {
   "codemirror_mode": {
    "name": "ipython",
    "version": 2
   },
   "file_extension": ".py",
   "mimetype": "text/x-python",
   "name": "python",
   "nbconvert_exporter": "python",
   "pygments_lexer": "ipython2",
   "version": "2.7.13"
  }
 },
 "nbformat": 4,
 "nbformat_minor": 2
}
