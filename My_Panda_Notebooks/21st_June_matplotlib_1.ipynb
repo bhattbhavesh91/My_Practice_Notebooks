{
 "cells": [
  {
   "cell_type": "code",
   "execution_count": 20,
   "metadata": {},
   "outputs": [
    {
     "ename": "SyntaxError",
     "evalue": "invalid syntax (<ipython-input-20-3270e74ce571>, line 20)",
     "output_type": "error",
     "traceback": [
      "\u001b[0;36m  File \u001b[0;32m\"<ipython-input-20-3270e74ce571>\"\u001b[0;36m, line \u001b[0;32m20\u001b[0m\n\u001b[0;31m    axes[1][0].plot(rate_1949['DATE'].dt.month,rate_1949['VALUE'],'r',,rate_1948['VALUE'],'b')\u001b[0m\n\u001b[0m                                                                      ^\u001b[0m\n\u001b[0;31mSyntaxError\u001b[0m\u001b[0;31m:\u001b[0m invalid syntax\n"
     ]
    }
   ],
   "source": [
    "import numpy as np\n",
    "import pandas as pd\n",
    "import matplotlib.pyplot as plt\n",
    "%matplotlib inline\n",
    "\n",
    "unemployement_rate = pd.read_csv('/home/greyatom/unemployement_rate.csv')\n",
    "unemployement_rate['DATE']\n",
    "fig, axes = plt.subplots(nrows=2,ncols=2)\n",
    "# print dir(axes)\n",
    "# Convert the DATE column to datetime datatype\n",
    "unemployement_rate['DATE'] = pd.to_datetime(unemployement_rate['DATE'])\n",
    "unemployement_rate.head(20)\n",
    "#print unemployement_rate['DATE']\n",
    "# Extract dates and value of year 19849\n",
    "rate_1949 = unemployement_rate[unemployement_rate['DATE'].dt.year == 1949]\n",
    "#print rate_1949\n",
    "rate_1948 = unemployement_rate[unemployement_rate['DATE'].dt.year == 1948]\n",
    "axes[0][1].plot(rate_1949['DATE'],rate_1949['VALUE'],'r',rate_1948['DATE'],rate_1948['VALUE'],'b')\n",
    "axes[0][0].plot(rate_1949['DATE'].dt.month,rate_1949['VALUE'],'r',rate_1948['DATE'].dt.month,rate_1948['VALUE'],'b')\n"
   ]
  },
  {
   "cell_type": "code",
   "execution_count": null,
   "metadata": {
    "collapsed": true
   },
   "outputs": [],
   "source": []
  },
  {
   "cell_type": "code",
   "execution_count": null,
   "metadata": {
    "collapsed": true
   },
   "outputs": [],
   "source": []
  }
 ],
 "metadata": {
  "kernelspec": {
   "display_name": "Python 2",
   "language": "python",
   "name": "python2"
  },
  "language_info": {
   "codemirror_mode": {
    "name": "ipython",
    "version": 2
   },
   "file_extension": ".py",
   "mimetype": "text/x-python",
   "name": "python",
   "nbconvert_exporter": "python",
   "pygments_lexer": "ipython2",
   "version": "2.7.13"
  }
 },
 "nbformat": 4,
 "nbformat_minor": 2
}
