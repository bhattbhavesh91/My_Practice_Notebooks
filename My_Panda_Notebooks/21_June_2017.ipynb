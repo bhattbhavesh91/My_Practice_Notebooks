{
 "cells": [
  {
   "cell_type": "code",
   "execution_count": 166,
   "metadata": {},
   "outputs": [
    {
     "name": "stdout",
     "output_type": "stream",
     "text": [
      "Averge =  50.347302\n",
      "People with english of Language of Choice =  1098\n",
      "Purchases made in PM =  4932\n",
      "Purchases made in AM =  5068\n",
      "Number of People purchasing above 95 and American Express 39\n",
      "hotmail.com     1638\n",
      "yahoo.com       1616\n",
      "gmail.com       1605\n",
      "smith.com         42\n",
      "williams.com      37\n",
      "Name: Email, dtype: int64\n"
     ]
    }
   ],
   "source": [
    "import numpy as np\n",
    "import pandas as pd\n",
    "import re\n",
    "import collections\n",
    "df = pd.read_csv('/home/greyatom/ecommerce_purchases.csv')\n",
    "#print df.head(5);\n",
    "#print df.info()\n",
    "\n",
    "#What is the average purchase price?\n",
    "avg_purchase_price = df['Purchase Price'].mean()\n",
    "print \"Averge = \",avg_purchase_price\n",
    "\n",
    "# How many people have English 'en' as their language of choice on the website\n",
    "eng_lang_of_choice = len(df[df['Language'] == 'en'])\n",
    "# eng_lang  = df[df['Language'] == 'en']['Language'].count()\n",
    "print \"People with english of Language of Choice = \",eng_lang_of_choice\n",
    "\n",
    "# How many people made the purchase during the AM and how many people made during PM?\n",
    "# Either use shape function or len function\n",
    "pm_count = len (df[df['AM or PM'] == 'PM'])\n",
    "am_count = df[df['AM or PM'] == 'AM'].shape[0]\n",
    "print \"Purchases made in PM = \",am_count\n",
    "print \"Purchases made in AM = \",pm_count\n",
    "\n",
    "# How many people have American Express credit card and made a purchase above 95$\n",
    "purchase_american_above_95 = df[(df['CC Provider'] == 'American Express') & (df['Purchase Price'] > 95)].shape[0]\n",
    "print \"Number of People purchasing above 95 and American Express\",purchase_american_above_95\n",
    "\n",
    "# What are the top 5 most popular email providers?\n",
    "top_5_email = df['Email'].apply(lambda x:x.split('@')[1]).value_counts().head(5)\n",
    "print top_5_email"
   ]
  },
  {
   "cell_type": "code",
   "execution_count": 182,
   "metadata": {},
   "outputs": [
    {
     "data": {
      "image/png": "[encoded data removed]",
      "text/plain": [
       "<matplotlib.figure.Figure at 0x7fd81817fa50>"
      ]
     },
     "metadata": {},
     "output_type": "display_data"
    }
   ],
   "source": [
    "import matplotlib.pyplot as plt\n",
    "%matplotlib inline\n",
    "import numpy as np\n",
    "import pandas as pd\n",
    "l1 = range(6)\n",
    "x = pd.Series(l1)\n",
    "y = x ** 2\n",
    "plt.plot(x,y,'r:')\n",
    "plt.xlabel('X axis')\n",
    "plt.ylabel('Y axis')\n",
    "plt.title('Hello')\n",
    "plt.show()"
   ]
  },
  {
   "cell_type": "code",
   "execution_count": null,
   "metadata": {
    "collapsed": true
   },
   "outputs": [],
   "source": []
  }
 ],
 "metadata": {
  "kernelspec": {
   "display_name": "Python 2",
   "language": "python",
   "name": "python2"
  },
  "language_info": {
   "codemirror_mode": {
    "name": "ipython",
    "version": 2
   },
   "file_extension": ".py",
   "mimetype": "text/x-python",
   "name": "python",
   "nbconvert_exporter": "python",
   "pygments_lexer": "ipython2",
   "version": "2.7.13"
  }
 },
 "nbformat": 4,
 "nbformat_minor": 2
}
